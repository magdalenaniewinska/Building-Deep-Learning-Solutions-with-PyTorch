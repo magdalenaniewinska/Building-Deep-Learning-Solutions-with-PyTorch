{
 "cells": [
  {
   "cell_type": "raw",
   "id": "c67e7c86",
   "metadata": {},
   "source": [
    "# first\n",
    "Prediction - manually\n",
    "Gradients Computation - manually\n",
    "Loss Computation - manually\n",
    "Parameter updates - manually"
   ]
  },
  {
   "cell_type": "code",
   "execution_count": 1,
   "id": "141304be",
   "metadata": {},
   "outputs": [],
   "source": [
    "import numpy as np"
   ]
  },
  {
   "cell_type": "raw",
   "id": "56e232a9",
   "metadata": {},
   "source": [
    "f = w*x ----- f = 2*x"
   ]
  },
  {
   "cell_type": "code",
   "execution_count": 2,
   "id": "367ca3f4",
   "metadata": {},
   "outputs": [],
   "source": [
    "X = np.array([1,2,3,4], dtype=np.float32)\n",
    "Y = np.array([2,4,6,8], dtype=np.float32)"
   ]
  },
  {
   "cell_type": "code",
   "execution_count": 3,
   "id": "6331e690",
   "metadata": {},
   "outputs": [],
   "source": [
    "w = 0.0"
   ]
  },
  {
   "cell_type": "raw",
   "id": "f10fd6e3",
   "metadata": {},
   "source": [
    "model prediction"
   ]
  },
  {
   "cell_type": "code",
   "execution_count": 4,
   "id": "3b1cb6f7",
   "metadata": {},
   "outputs": [],
   "source": [
    "def forward(x):\n",
    "    return w*x"
   ]
  },
  {
   "cell_type": "raw",
   "id": "d7d7dbf2",
   "metadata": {},
   "source": [
    "loss = MSE"
   ]
  },
  {
   "cell_type": "code",
   "execution_count": 5,
   "id": "9e48d9fd",
   "metadata": {},
   "outputs": [],
   "source": [
    "def loss(y, y_predicted):\n",
    "    return((y_predicted-y)**2).mean()"
   ]
  },
  {
   "cell_type": "raw",
   "id": "229a1508",
   "metadata": {},
   "source": [
    "gradient\n",
    "MSE = 1/N *(w*x -y)**2\n",
    "dJ/dw = 1/N 2x (w*x -y)"
   ]
  },
  {
   "cell_type": "code",
   "execution_count": 6,
   "id": "a814c679",
   "metadata": {},
   "outputs": [],
   "source": [
    "def gradient(x,y, y_predicted):\n",
    "    return np.dot(2*x, y_predicted-y).mean()"
   ]
  },
  {
   "cell_type": "raw",
   "id": "71bef5b3",
   "metadata": {},
   "source": [
    "prediction before training f(5)"
   ]
  },
  {
   "cell_type": "raw",
   "id": "7acd0759",
   "metadata": {},
   "source": [
    "training"
   ]
  },
  {
   "cell_type": "code",
   "execution_count": 7,
   "id": "759763ed",
   "metadata": {},
   "outputs": [],
   "source": [
    "learning_rate = 0.01\n",
    "n_iters = 20"
   ]
  },
  {
   "cell_type": "code",
   "execution_count": 8,
   "id": "a69fee5d",
   "metadata": {},
   "outputs": [
    {
     "name": "stdout",
     "output_type": "stream",
     "text": [
      "epoch 1:w = 1.200, loss=30.00000000\n",
      "epoch 3:w = 1.872, loss=0.76800019\n",
      "epoch 5:w = 1.980, loss=0.01966083\n",
      "epoch 7:w = 1.997, loss=0.00050331\n",
      "epoch 9:w = 1.999, loss=0.00001288\n",
      "epoch 11:w = 2.000, loss=0.00000033\n",
      "epoch 13:w = 2.000, loss=0.00000001\n",
      "epoch 15:w = 2.000, loss=0.00000000\n",
      "epoch 17:w = 2.000, loss=0.00000000\n",
      "epoch 19:w = 2.000, loss=0.00000000\n"
     ]
    }
   ],
   "source": [
    "for epoch in range(n_iters):\n",
    "    \n",
    "    #prediction\n",
    "    y_pred = forward(X)\n",
    "    \n",
    "    #loss\n",
    "    l= loss(Y, y_pred)\n",
    "    \n",
    "    #gradients\n",
    "    dw = gradient(X,Y,y_pred)\n",
    "    \n",
    "    #update weights\n",
    "    w -= learning_rate *dw\n",
    "    \n",
    "    if epoch%2 == 0:\n",
    "        print(f'epoch {epoch+1}:w = {w:.3f}, loss={l:.8f}')"
   ]
  },
  {
   "cell_type": "code",
   "execution_count": 9,
   "id": "188882d9",
   "metadata": {},
   "outputs": [
    {
     "data": {
      "text/plain": [
       "9.999999976158142"
      ]
     },
     "execution_count": 9,
     "metadata": {},
     "output_type": "execute_result"
    }
   ],
   "source": [
    "forward(5)"
   ]
  },
  {
   "cell_type": "raw",
   "id": "c1ec7306",
   "metadata": {},
   "source": [
    "# second\n",
    "Prediction - manually\n",
    "Gradients Computation - Autograd\n",
    "Loss Computation - manually\n",
    "Parameter updates - manually"
   ]
  },
  {
   "cell_type": "code",
   "execution_count": 10,
   "id": "3cb3a522",
   "metadata": {},
   "outputs": [],
   "source": [
    "import torch"
   ]
  },
  {
   "cell_type": "code",
   "execution_count": 11,
   "id": "42e799e4",
   "metadata": {},
   "outputs": [],
   "source": [
    "X = torch.tensor([1,2,3,4], dtype=torch.float32)\n",
    "Y = torch.tensor([2,4,6,8], dtype=torch.float32)"
   ]
  },
  {
   "cell_type": "code",
   "execution_count": 12,
   "id": "3e02245f",
   "metadata": {},
   "outputs": [],
   "source": [
    "w = torch.tensor(0.0, dtype=torch.float32, requires_grad=True)"
   ]
  },
  {
   "cell_type": "code",
   "execution_count": 13,
   "id": "a21eac34",
   "metadata": {},
   "outputs": [],
   "source": [
    "def forward(x):\n",
    "    return w*x"
   ]
  },
  {
   "cell_type": "code",
   "execution_count": 14,
   "id": "eafce1f6",
   "metadata": {},
   "outputs": [],
   "source": [
    "def loss(y, y_predicted):\n",
    "    return((y_predicted-y)**2).mean()"
   ]
  },
  {
   "cell_type": "code",
   "execution_count": 15,
   "id": "20b4d1a9",
   "metadata": {},
   "outputs": [],
   "source": [
    "def gradient(x,y, y_predicted):\n",
    "    return np.dot(2*x, y_predicted-y).mean()"
   ]
  },
  {
   "cell_type": "code",
   "execution_count": 16,
   "id": "f6a01225",
   "metadata": {},
   "outputs": [],
   "source": [
    "learning_rate = 0.01\n",
    "n_iters = 100"
   ]
  },
  {
   "cell_type": "code",
   "execution_count": 17,
   "id": "488cefb1",
   "metadata": {},
   "outputs": [
    {
     "name": "stdout",
     "output_type": "stream",
     "text": [
      "epoch 1:w = 0.300, loss=30.00000000\n",
      "epoch 11:w = 1.665, loss=1.16278565\n",
      "epoch 21:w = 1.934, loss=0.04506890\n",
      "epoch 31:w = 1.987, loss=0.00174685\n",
      "epoch 41:w = 1.997, loss=0.00006770\n",
      "epoch 51:w = 1.999, loss=0.00000262\n",
      "epoch 61:w = 2.000, loss=0.00000010\n",
      "epoch 71:w = 2.000, loss=0.00000000\n",
      "epoch 81:w = 2.000, loss=0.00000000\n",
      "epoch 91:w = 2.000, loss=0.00000000\n"
     ]
    }
   ],
   "source": [
    "for epoch in range(n_iters):\n",
    "    \n",
    "    #prediction\n",
    "    y_pred = forward(X)\n",
    "    \n",
    "    #loss\n",
    "    l= loss(Y, y_pred)\n",
    "    \n",
    "    #gradients\n",
    "    l.backward() #dl/dw\n",
    "    \n",
    "    #update weights\n",
    "    with torch.no_grad():\n",
    "        w -= learning_rate *w.grad\n",
    "        \n",
    "    #zero gradients\n",
    "    w.grad.zero_()\n",
    "    \n",
    "    if epoch%10 == 0:\n",
    "        print(f'epoch {epoch+1}:w = {w:.3f}, loss={l:.8f}')"
   ]
  },
  {
   "cell_type": "code",
   "execution_count": 18,
   "id": "b14a469f",
   "metadata": {},
   "outputs": [
    {
     "data": {
      "text/plain": [
       "tensor(10.0000, grad_fn=<MulBackward0>)"
      ]
     },
     "execution_count": 18,
     "metadata": {},
     "output_type": "execute_result"
    }
   ],
   "source": [
    "forward(5)"
   ]
  },
  {
   "cell_type": "raw",
   "id": "14913d6d",
   "metadata": {},
   "source": [
    "# third\n",
    "Prediction - manually\n",
    "Gradients Computation - Autograd\n",
    "Loss Computation - PyTorch Loss\n",
    "Parameter updates - PyTorch Optimizer"
   ]
  },
  {
   "cell_type": "raw",
   "id": "3a8d9a01",
   "metadata": {},
   "source": [
    "1) Design model (input, output size, forward pass)\n",
    "2) Construct loss and optimizer\n",
    "3) Training loop:\n",
    "    - forward pass: compute prediction\n",
    "    - backward pass: gradients\n",
    "    - update weights"
   ]
  },
  {
   "cell_type": "code",
   "execution_count": 19,
   "id": "183a3120",
   "metadata": {},
   "outputs": [],
   "source": [
    "import torch\n",
    "import torch.nn as nn"
   ]
  },
  {
   "cell_type": "code",
   "execution_count": 20,
   "id": "a5735b68",
   "metadata": {},
   "outputs": [],
   "source": [
    "X = torch.tensor([1,2,3,4], dtype=torch.float32)\n",
    "Y = torch.tensor([2,4,6,8], dtype=torch.float32)"
   ]
  },
  {
   "cell_type": "code",
   "execution_count": 21,
   "id": "19a00d46",
   "metadata": {},
   "outputs": [],
   "source": [
    "w = torch.tensor(0.0, dtype=torch.float32, requires_grad=True)"
   ]
  },
  {
   "cell_type": "code",
   "execution_count": 23,
   "id": "319d9190",
   "metadata": {},
   "outputs": [],
   "source": [
    "#model prediction\n",
    "def forward(x):\n",
    "    return w*x"
   ]
  },
  {
   "cell_type": "code",
   "execution_count": 25,
   "id": "dc427f4a",
   "metadata": {},
   "outputs": [
    {
     "data": {
      "text/plain": [
       "tensor(0., grad_fn=<MulBackward0>)"
      ]
     },
     "execution_count": 25,
     "metadata": {},
     "output_type": "execute_result"
    }
   ],
   "source": [
    "#prediction before training\n",
    "forward(5)"
   ]
  },
  {
   "cell_type": "code",
   "execution_count": 26,
   "id": "8fbb69d8",
   "metadata": {},
   "outputs": [],
   "source": [
    "#Training\n",
    "learning_rate = 0.01\n",
    "n_iters = 100"
   ]
  },
  {
   "cell_type": "code",
   "execution_count": 27,
   "id": "464d7641",
   "metadata": {},
   "outputs": [],
   "source": [
    "loss = nn.MSELoss()"
   ]
  },
  {
   "cell_type": "code",
   "execution_count": 28,
   "id": "dc8a9201",
   "metadata": {},
   "outputs": [],
   "source": [
    "optimizer = torch.optim.SGD([w], lr=learning_rate)"
   ]
  },
  {
   "cell_type": "code",
   "execution_count": 30,
   "id": "22128e6e",
   "metadata": {},
   "outputs": [
    {
     "name": "stdout",
     "output_type": "stream",
     "text": [
      "epoch 1:w = 0.855, loss=21.67499924\n",
      "epoch 11:w = 1.775, loss=0.52748799\n",
      "epoch 21:w = 1.956, loss=0.02044514\n",
      "epoch 31:w = 1.991, loss=0.00079244\n",
      "epoch 41:w = 1.998, loss=0.00003072\n",
      "epoch 51:w = 2.000, loss=0.00000119\n",
      "epoch 61:w = 2.000, loss=0.00000005\n",
      "epoch 71:w = 2.000, loss=0.00000000\n",
      "epoch 81:w = 2.000, loss=0.00000000\n",
      "epoch 91:w = 2.000, loss=0.00000000\n"
     ]
    }
   ],
   "source": [
    "for epoch in range(n_iters):\n",
    "    \n",
    "    #prediction\n",
    "    y_pred = forward(X)\n",
    "    \n",
    "    #loss\n",
    "    l= loss(Y, y_pred)\n",
    "    \n",
    "    #gradients\n",
    "    l.backward() #dl/dw\n",
    "    \n",
    "    #update weights\n",
    "    optimizer.step()\n",
    "        \n",
    "    #zero gradients\n",
    "    optimizer.zero_grad()\n",
    "    \n",
    "    if epoch%10 == 0:\n",
    "        print(f'epoch {epoch+1}:w = {w:.3f}, loss={l:.8f}')"
   ]
  },
  {
   "cell_type": "code",
   "execution_count": 31,
   "id": "e6e1f307",
   "metadata": {},
   "outputs": [
    {
     "data": {
      "text/plain": [
       "tensor(10.0000, grad_fn=<MulBackward0>)"
      ]
     },
     "execution_count": 31,
     "metadata": {},
     "output_type": "execute_result"
    }
   ],
   "source": [
    "#prediction after training\n",
    "forward(5)"
   ]
  },
  {
   "cell_type": "raw",
   "id": "88348e3f",
   "metadata": {},
   "source": [
    "# fourth\n",
    "Prediction - PyTorch model\n",
    "Gradients Computation - Autograd\n",
    "Loss Computation - PyTorch Loss\n",
    "Parameter updates - PyTorch Optimizer"
   ]
  },
  {
   "cell_type": "code",
   "execution_count": 33,
   "id": "911ab38f",
   "metadata": {},
   "outputs": [
    {
     "data": {
      "text/plain": [
       "torch.Size([4, 1])"
      ]
     },
     "execution_count": 33,
     "metadata": {},
     "output_type": "execute_result"
    }
   ],
   "source": [
    "X = torch.tensor([[1],[2],[3],[4]], dtype=torch.float32)\n",
    "Y = torch.tensor([[2],[4],[6],[8]], dtype=torch.float32)\n",
    "n_samples, n_features = X.shape\n",
    "X.shape"
   ]
  },
  {
   "cell_type": "code",
   "execution_count": 35,
   "id": "5a407e93",
   "metadata": {},
   "outputs": [],
   "source": [
    "input_size = n_features\n",
    "output_size = n_features"
   ]
  },
  {
   "cell_type": "code",
   "execution_count": 37,
   "id": "407a70a7",
   "metadata": {},
   "outputs": [],
   "source": [
    "model = nn.Linear(input_size, output_size)"
   ]
  },
  {
   "cell_type": "code",
   "execution_count": 38,
   "id": "cc8759b8",
   "metadata": {},
   "outputs": [],
   "source": [
    "X_test = torch.tensor([5], dtype=torch.float32)"
   ]
  },
  {
   "cell_type": "code",
   "execution_count": 39,
   "id": "976b972c",
   "metadata": {},
   "outputs": [
    {
     "data": {
      "text/plain": [
       "-2.656703472137451"
      ]
     },
     "execution_count": 39,
     "metadata": {},
     "output_type": "execute_result"
    }
   ],
   "source": [
    "#prediction before training\n",
    "model(X_test).item()"
   ]
  },
  {
   "cell_type": "code",
   "execution_count": 40,
   "id": "9fc6b549",
   "metadata": {},
   "outputs": [],
   "source": [
    "#Training\n",
    "learning_rate = 0.01\n",
    "n_iters = 100"
   ]
  },
  {
   "cell_type": "code",
   "execution_count": 41,
   "id": "da19b784",
   "metadata": {},
   "outputs": [],
   "source": [
    "loss = nn.MSELoss()"
   ]
  },
  {
   "cell_type": "code",
   "execution_count": 42,
   "id": "12d7a9ef",
   "metadata": {},
   "outputs": [],
   "source": [
    "optimizer = torch.optim.SGD(model.parameters(), lr=learning_rate)"
   ]
  },
  {
   "cell_type": "code",
   "execution_count": 43,
   "id": "6543cf34",
   "metadata": {},
   "outputs": [
    {
     "name": "stdout",
     "output_type": "stream",
     "text": [
      "epoch 1:w = -0.013, loss=51.36888504\n",
      "epoch 11:w = 1.630, loss=1.33335960\n",
      "epoch 21:w = 1.896, loss=0.03856989\n",
      "epoch 31:w = 1.940, loss=0.00483337\n",
      "epoch 41:w = 1.948, loss=0.00373732\n",
      "epoch 51:w = 1.951, loss=0.00349870\n",
      "epoch 61:w = 1.952, loss=0.00329450\n",
      "epoch 71:w = 1.954, loss=0.00310273\n",
      "epoch 81:w = 1.955, loss=0.00292215\n",
      "epoch 91:w = 1.956, loss=0.00275205\n"
     ]
    }
   ],
   "source": [
    "for epoch in range(n_iters):\n",
    "    \n",
    "    #prediction\n",
    "    y_pred = model(X)\n",
    "    \n",
    "    #loss\n",
    "    l= loss(Y, y_pred)\n",
    "    \n",
    "    #gradients\n",
    "    l.backward() #dl/dw\n",
    "    \n",
    "    #update weights\n",
    "    optimizer.step()\n",
    "        \n",
    "    #zero gradients\n",
    "    optimizer.zero_grad()\n",
    "    \n",
    "    if epoch%10 == 0:\n",
    "        [w, b] = model.parameters()\n",
    "        print(f'epoch {epoch+1}:w = {w[0][0].item():.3f}, loss={l:.8f}')"
   ]
  },
  {
   "cell_type": "code",
   "execution_count": 44,
   "id": "a8fb4067",
   "metadata": {},
   "outputs": [
    {
     "data": {
      "text/plain": [
       "9.912721633911133"
      ]
     },
     "execution_count": 44,
     "metadata": {},
     "output_type": "execute_result"
    }
   ],
   "source": [
    "#prediction after training\n",
    "model(X_test).item()"
   ]
  },
  {
   "cell_type": "code",
   "execution_count": null,
   "id": "c7245724",
   "metadata": {},
   "outputs": [],
   "source": []
  }
 ],
 "metadata": {
  "kernelspec": {
   "display_name": "Python 3",
   "language": "python",
   "name": "python3"
  },
  "language_info": {
   "codemirror_mode": {
    "name": "ipython",
    "version": 3
   },
   "file_extension": ".py",
   "mimetype": "text/x-python",
   "name": "python",
   "nbconvert_exporter": "python",
   "pygments_lexer": "ipython3",
   "version": "3.8.2"
  }
 },
 "nbformat": 4,
 "nbformat_minor": 5
}
